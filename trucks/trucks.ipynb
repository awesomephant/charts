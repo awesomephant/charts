{
 "cells": [
  {
   "cell_type": "markdown",
   "metadata": {},
   "source": [
    "# Individual Vehivle Approvals (IVA)\n",
    "\n",
    "## Data\n",
    "\n",
    "- https://www.eea.europa.eu/en/datahub/datahubitem-view/9636827c-bd0c-40f5-814e-c4065c11c9a0\n",
    "- API explorer: https://discodata.eea.europa.eu/#\n",
    "- Goes back to 2012 in various formats\n"
   ]
  },
  {
   "cell_type": "code",
   "execution_count": 140,
   "metadata": {},
   "outputs": [],
   "source": [
    "import pandas as pd\n",
    "import json\n",
    "import urllib.request\n",
    "import urllib.parse\n",
    "import os.path\n",
    "from matplotlib import pyplot as plt\n",
    "import matplotlib.dates as mdates\n",
    "import matplotlib.ticker as mticker"
   ]
  },
  {
   "cell_type": "code",
   "execution_count": 52,
   "metadata": {},
   "outputs": [],
   "source": [
    "# years = [2017, 2018, 2019, 2020, 2021, 2022, 2023]\n",
    "years = [\n",
    "    {\"year\": 2020, \"table\": \"2020Fv18\"},\n",
    "    {\"year\": 2021, \"table\": \"2021Fv20\"},\n",
    "    {\"year\": 2022, \"table\": \"2022Fv22\"},\n",
    "    {\"year\": 2023, \"table\": \"2023Pv23\"}\n",
    "  ]\n",
    "api_base = \"https://discodata.eea.europa.eu/sql\""
   ]
  },
  {
   "cell_type": "code",
   "execution_count": 53,
   "metadata": {},
   "outputs": [
    {
     "name": "stdout",
     "output_type": "stream",
     "text": [
      "Fetching data for 2020 from https://discodata.eea.europa.eu/sql?query=SELECT+%2A+FROM+%5BCO2Emission%5D.%5Blatest%5D.%5Bco2vans_2020Fv18%5D+WHERE+Mh+%3D+%27AA-IVA%27\n",
      "Fetching data for 2021 from https://discodata.eea.europa.eu/sql?query=SELECT+%2A+FROM+%5BCO2Emission%5D.%5Blatest%5D.%5Bco2vans_2021Fv20%5D+WHERE+Mh+%3D+%27AA-IVA%27\n",
      "Fetching data for 2022 from https://discodata.eea.europa.eu/sql?query=SELECT+%2A+FROM+%5BCO2Emission%5D.%5Blatest%5D.%5Bco2vans_2022Fv22%5D+WHERE+Mh+%3D+%27AA-IVA%27\n",
      "Fetching data for 2023 from https://discodata.eea.europa.eu/sql?query=SELECT+%2A+FROM+%5BCO2Emission%5D.%5Blatest%5D.%5Bco2vans_2023Pv23%5D+WHERE+Mh+%3D+%27AA-IVA%27\n"
     ]
    }
   ],
   "source": [
    "# Recent years are available via SQL, so we'll pull those\n",
    "# and cache the data to \"./data/registrations_{year}.json\"\n",
    "# Everything else is in giant static CSV dumps\n",
    "\n",
    "for el in years:\n",
    "\toutputPath = f\"./data/registrations_{el['year']}.json\"\n",
    "\tif (os.path.isfile(outputPath)):\n",
    "\t\tprint(f\"Found cached data for {el['year']}, skipping\")\n",
    "\t\tcontinue\n",
    "\tquery = f\"SELECT * FROM [CO2Emission].[latest].[co2vans_{el['table']}] WHERE Mh = 'AA-IVA'\"\n",
    "\turl = f\"{api_base}?query={urllib.parse.quote_plus(query)}\"\n",
    "\tprint(f\"Fetching data for {el['year']} from {url}\")\n",
    "\twith urllib.request.urlopen(url) as data:\n",
    "\t\tjson_data = json.load(data)\n",
    "\t\twith open(outputPath, 'w') as f:\n",
    "\t\t\tjson.dump(json_data, f)"
   ]
  },
  {
   "cell_type": "code",
   "execution_count": 152,
   "metadata": {},
   "outputs": [
    {
     "name": "stderr",
     "output_type": "stream",
     "text": [
      "C:\\Users\\max\\AppData\\Local\\Temp\\ipykernel_21808\\3704853231.py:7: FutureWarning: The behavior of DataFrame concatenation with empty or all-NA entries is deprecated. In a future version, this will no longer exclude empty or all-NA columns when determining the result dtypes. To retain the old behavior, exclude the relevant entries before the concat operation.\n",
      "  merged_data = pd.concat([merged_data, df], ignore_index=True)\n",
      "C:\\Users\\max\\AppData\\Local\\Temp\\ipykernel_21808\\3704853231.py:7: FutureWarning: The behavior of DataFrame concatenation with empty or all-NA entries is deprecated. In a future version, this will no longer exclude empty or all-NA columns when determining the result dtypes. To retain the old behavior, exclude the relevant entries before the concat operation.\n",
      "  merged_data = pd.concat([merged_data, df], ignore_index=True)\n",
      "C:\\Users\\max\\AppData\\Local\\Temp\\ipykernel_21808\\3704853231.py:7: FutureWarning: The behavior of DataFrame concatenation with empty or all-NA entries is deprecated. In a future version, this will no longer exclude empty or all-NA columns when determining the result dtypes. To retain the old behavior, exclude the relevant entries before the concat operation.\n",
      "  merged_data = pd.concat([merged_data, df], ignore_index=True)\n"
     ]
    }
   ],
   "source": [
    "# Load cached data from \"./data/registrations_{year}.json\"\n",
    "merged_data = pd.DataFrame()\n",
    "for el in years:\n",
    "\twith open(f\"./data/registrations_{el['year']}.json\") as f:\n",
    "\t\tjs = json.load(f)\n",
    "\t\tdf = pd.DataFrame(pd.json_normalize(js, record_path=\"results\"))\n",
    "\t\tmerged_data = pd.concat([merged_data, df], ignore_index=True)"
   ]
  },
  {
   "cell_type": "code",
   "execution_count": 155,
   "metadata": {},
   "outputs": [],
   "source": [
    "merged_data = (merged_data\n",
    "\t.astype({\"year\": int})\n",
    "\t.rename(columns={\"MS\": \"country\"}))\n",
    "\n",
    "dodges = merged_data.loc[\n",
    "    (merged_data[\"Mk\"] == \"DODGE\")\n",
    "    & (merged_data[\"T\"].str.contains(\"RAM\"))\n",
    "    & (merged_data[\"country\"] == \"DE\")\n",
    "].sort_values(\"year\")\n",
    "\n",
    "counts = dodges[\"year\"].value_counts().sort_index()\n"
   ]
  },
  {
   "cell_type": "code",
   "execution_count": 159,
   "metadata": {},
   "outputs": [
    {
     "data": {
      "text/plain": [
       "<matplotlib.legend.Legend at 0x1b6875a7a90>"
      ]
     },
     "execution_count": 159,
     "metadata": {},
     "output_type": "execute_result"
    },
    {
     "data": {
      "image/png": "[encoded data removed]",
      "text/plain": [
       "<Figure size 640x480 with 1 Axes>"
      ]
     },
     "metadata": {},
     "output_type": "display_data"
    }
   ],
   "source": [
    "fig,ax = plt.subplots()\n",
    "\n",
    "ax.set_title(\"IVA Registrations for Dodge RAMs \\n(all models) in Germany, 2020-2023\")\n",
    "ax.bar(\n",
    "\tx=counts.index,\n",
    "\theight=counts.values,\n",
    "\tlabel=\"Zulassungen\",\n",
    "\tcolor=\"gray\"\n",
    ")\n",
    "plt.gca().xaxis.set_major_locator(mticker.MultipleLocator(1))\n",
    "ax.legend()\n"
   ]
  }
 ],
 "metadata": {
  "kernelspec": {
   "display_name": "base",
   "language": "python",
   "name": "python3"
  },
  "language_info": {
   "codemirror_mode": {
    "name": "ipython",
    "version": 3
   },
   "file_extension": ".py",
   "mimetype": "text/x-python",
   "name": "python",
   "nbconvert_exporter": "python",
   "pygments_lexer": "ipython3",
   "version": "3.11.7"
  }
 },
 "nbformat": 4,
 "nbformat_minor": 2
}
